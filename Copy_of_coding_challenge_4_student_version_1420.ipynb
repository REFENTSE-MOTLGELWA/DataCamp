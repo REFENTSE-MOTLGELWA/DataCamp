{
  "nbformat": 4,
  "nbformat_minor": 0,
  "metadata": {
    "celltoolbar": "Create Assignment",
    "colab": {
      "name": "Copy of coding_challenge_4_student_version-1420.ipynb",
      "provenance": [],
      "collapsed_sections": [],
      "include_colab_link": true
    },
    "kernelspec": {
      "display_name": "Python 3",
      "language": "python",
      "name": "python3"
    },
    "language_info": {
      "codemirror_mode": {
        "name": "ipython",
        "version": 3
      },
      "file_extension": ".py",
      "mimetype": "text/x-python",
      "name": "python",
      "nbconvert_exporter": "python",
      "pygments_lexer": "ipython3",
      "version": "3.7.1"
    },
    "toc": {
      "base_numbering": 1,
      "nav_menu": {},
      "number_sections": true,
      "sideBar": true,
      "skip_h1_title": false,
      "title_cell": "Table of Contents",
      "title_sidebar": "Contents",
      "toc_cell": false,
      "toc_position": {
        "height": "calc(100% - 180px)",
        "left": "10px",
        "top": "150px",
        "width": "384px"
      },
      "toc_section_display": true,
      "toc_window_display": true
    }
  },
  "cells": [
    {
      "cell_type": "markdown",
      "metadata": {
        "id": "view-in-github",
        "colab_type": "text"
      },
      "source": [
        "<a href=\"https://colab.research.google.com/github/REFENTSE-MOTLGELWA/DataCamp/blob/master/Copy_of_coding_challenge_4_student_version_1420.ipynb\" target=\"_parent\"><img src=\"https://colab.research.google.com/assets/colab-badge.svg\" alt=\"Open In Colab\"/></a>"
      ]
    },
    {
      "cell_type": "markdown",
      "metadata": {
        "colab_type": "text",
        "id": "BEQtdLADyxjl"
      },
      "source": [
        "# Advanced list exercises"
      ]
    },
    {
      "cell_type": "markdown",
      "metadata": {
        "id": "IYQT6_WHkihl",
        "colab_type": "text"
      },
      "source": [
        "## Instructions to Students\n",
        "- **Do not add or remove cells in this notebook. Do not edit or remove the `### START FUNCTION` or `### END FUNCTION` comments. Do not add any code outside of the functions you are required to edit. Doing any of this will lead to a mark of 0%!**\n",
        "- Answer the questions according to the specifications provided.\n",
        "- Use the given cell in each question to to see if your function matches the expected outputs.\n",
        "- Do not hard-code answers to the questions.\n",
        "- The use of stackoverflow, google, and other online tools are permitted. However, copying fellow student's code is not permissible and is considered a breach of the Honour code below. Doing this will result in a mark of 0%.\n",
        "- Good luck, and may the force be with you!"
      ]
    },
    {
      "cell_type": "markdown",
      "metadata": {
        "colab_type": "text",
        "id": "RTgCNTpbOBNC"
      },
      "source": [
        "### Honour Code"
      ]
    },
    {
      "cell_type": "markdown",
      "metadata": {
        "colab_type": "text",
        "id": "gU0hL6yxOBNE"
      },
      "source": [
        "I **REFENTSE, MOTLOGELWA**, confirm - by submitting this document - that the solutions in this notebook are a result of my own work and that I abide by the EDSA honour code (https://drive.google.com/file/d/1QDCjGZJ8-FmJE3bZdIQNwnJyQKPhHZBn/view?usp=sharing).  \n",
        "\n",
        "Non-compliance with the honour code constitutes a material breach of contract."
      ]
    },
    {
      "cell_type": "markdown",
      "metadata": {
        "colab_type": "text",
        "id": "OgRGlNbkyxkB"
      },
      "source": [
        "# Question 1\n",
        "## Linear Merge\n",
        "Given two lists sorted in increasing order, create and return a merged list of all the elements in sorted order. You may modify the passed in lists. <br>\n",
        "Ideally, the solution should work in \"linear\" time, making a single pass through each list. Please note that Python's sorting functions are slower than linear time."
      ]
    },
    {
      "cell_type": "code",
      "metadata": {
        "colab_type": "code",
        "id": "u3lkyypGyxkD",
        "nbgrader": {
          "grade": false,
          "grade_id": "linear_merge",
          "locked": false,
          "schema_version": 1,
          "solution": true
        },
        "colab": {}
      },
      "source": [
        "### START FUNCTION\n",
        "def linear_merge(list1, list2):\n",
        "      fin = []    \n",
        "      while list1 and list2:\n",
        "        if list1[0] < list2[0]:\n",
        "          fin.append(list1.pop(0))\n",
        "        else:\n",
        "          fin.append(list2.pop(0))\n",
        "      fin.extend(list1)\n",
        "      fin.extend(list2)\n",
        "      return fin          \n",
        "    \n",
        "### END FUNCTION"
      ],
      "execution_count": 0,
      "outputs": []
    },
    {
      "cell_type": "code",
      "metadata": {
        "colab_type": "code",
        "id": "kE4DUD1EuBC-",
        "outputId": "f38f4acc-90e4-4cda-e506-536cd2546a14",
        "colab": {
          "base_uri": "https://localhost:8080/",
          "height": 34
        }
      },
      "source": [
        "linear_merge(['searching', 'sorting', 'van'], ['apple', 'small']) == ['apple', 'searching', 'small', 'sorting', 'van']"
      ],
      "execution_count": 0,
      "outputs": [
        {
          "output_type": "execute_result",
          "data": {
            "text/plain": [
              "True"
            ]
          },
          "metadata": {
            "tags": []
          },
          "execution_count": 2
        }
      ]
    },
    {
      "cell_type": "markdown",
      "metadata": {
        "colab_type": "text",
        "id": "lC_RbacOOBNe"
      },
      "source": [
        "_**Expected Outputs**_ \n",
        "```python\n",
        "linear_merge(['aa', 'xx', 'zz'], ['bb', 'cc'])) == ['aa', 'bb', 'cc', 'xx', 'zz']\n",
        "linear_merge(['searching', 'sorting', 'van'], ['apple', 'small']) == ['apple', 'searching', 'small', 'sorting', 'van']\n",
        "linear_merge(['hello', 'world'], ['funny', 'giant', 'zoo']) == ['funny', 'giant', 'hello', 'world', 'zoo']\n",
        "linear_merge(['patch', 'tour', 'yak', 'zombie'], ['egg', 'stall']) == ['egg', 'patch', 'stall', 'tour', 'yak', 'zombie']\n",
        "linear_merge(['aab', 'aad', 'aaf'], ['aac', 'aae']) == ['aab', 'aac', 'aad', 'aae', 'aaf']\n",
        "```"
      ]
    },
    {
      "cell_type": "markdown",
      "metadata": {
        "colab_type": "text",
        "id": "e_Dj4gWvOBNf"
      },
      "source": [
        "# Question 2\n",
        "## Building a Protein \n",
        "\n",
        "The lab which requested both the functions you created in coding challenge 2 and 3 were such a game changer, they believe that you could write the ultimate functions which will be used in all genetic labs across South Africa.\n",
        "\n",
        "In order for protein to be formed, a chain of amino acids must be formed. These amino acids are formed with 3 base pairs. An example would be 'CUU' makes a Leucine ('Leu') amino acid. Remember that there are stop codons UAG, UGA, UAA which essentially ends the protein synthesis formation. This leaves you with a chain of amino acids that will be folded into a protien which hopefully becomes part of your python brain tissue!\n",
        "\n",
        "The function to be built, ```amino_acids```, must return a list of a tuple and an integer when given a string of mRNA code. The first tuple must contain all the amino acids and the integer must be the number of distinct amino acids. You can use the dictionary below to help with your function. The function must also not include the stop codon codes.\n",
        "\n",
        "NOTE : For this piece of code, we'll assume that there's only one stop codon in the sequence\n",
        "\n",
        "```python\n",
        "{'CUU': 'Leu', 'UAG': '---', 'ACA': 'Thr', 'AAA': 'Lys', 'AUC': 'Ile',\n",
        " 'AAC': 'Asn','AUA': 'Ile', 'AGG': 'Arg', 'CCU': 'Pro', 'ACU': 'Thr', \n",
        " 'AGC': 'Ser','AAG': 'Lys', 'AGA': 'Arg', 'CAU': 'His', 'AAU': 'Asn',\n",
        " 'AUU': 'Ile','CUG': 'Leu', 'CUA': 'Leu', 'CUC': 'Leu', 'CAC': 'His', \n",
        " 'UGG': 'Trp','CAA': 'Gln', 'AGU': 'Ser', 'CCA': 'Pro', 'CCG': 'Pro',\n",
        " 'CCC': 'Pro', 'UAU': 'Tyr', 'GGU': 'Gly', 'UGU': 'Cys', 'CGA': 'Arg', \n",
        " 'CAG': 'Gln', 'UCU': 'Ser', 'GAU': 'Asp', 'CGG': 'Arg', 'UUU': 'Phe', \n",
        " 'UGC': 'Cys', 'GGG': 'Gly', 'UGA':'---', 'GGA': 'Gly', 'UAA': '---', \n",
        " 'ACG': 'Thr', 'UAC': 'Tyr', 'UUC': 'Phe', 'UCG': 'Ser', 'UUA': 'Leu', \n",
        " 'UUG': 'Leu', 'UCC': 'Ser', 'ACC': 'Thr', 'UCA': 'Ser', 'GCA': 'Ala', \n",
        " 'GUA': 'Val', 'GCC': 'Ala', 'GUC': 'Val', 'GGC':'Gly', 'GCG': 'Ala', \n",
        " 'GUG': 'Val', 'GAG': 'Glu', 'GUU': 'Val', 'GCU': 'Ala', 'GAC': 'Asp', \n",
        " 'CGU': 'Arg', 'GAA': 'Glu', 'AUG': 'Met', 'CGC': 'Arg'}\n",
        "```\n",
        "```'---'``` represents the stop codons\n",
        "\n",
        "Example would be :\n",
        "\n",
        "'AUGUCGGCACAUUUAUGCUCC**UAA**UCC' <br>\n",
        "To give : [('Met', 'Ser', 'Ala', 'His', 'Leu', 'Cys', 'Ser'), 6]\n",
        "\n",
        "This is the summary of what is required from the challenge:\n",
        "\n",
        "* The output must be a list of a tuple of strings (amino acid) and a single integer (number of distinct amino acids)\n",
        "* Must use the dictionary to call the amino acid or stop codon\n",
        "* Must convert the three codes into an amino acid and stop at the stop codon (the function assumes all the codes have only one stop codon)\n"
      ]
    },
    {
      "cell_type": "code",
      "metadata": {
        "colab_type": "code",
        "id": "hWa6HF7oOBNf",
        "colab": {}
      },
      "source": [
        "### START FUNCTION\n",
        "\n",
        "my_dict = {'CUU': 'Leu', 'UAG': '---', 'ACA': 'Thr', 'AAA': 'Lys', 'AUC': 'Ile',\n",
        " 'AAC': 'Asn','AUA': 'Ile', 'AGG': 'Arg', 'CCU': 'Pro', 'ACU': 'Thr', \n",
        " 'AGC': 'Ser','AAG': 'Lys', 'AGA': 'Arg', 'CAU': 'His', 'AAU': 'Asn',\n",
        " 'AUU': 'Ile','CUG': 'Leu', 'CUA': 'Leu', 'CUC': 'Leu', 'CAC': 'His', \n",
        " 'UGG': 'Trp','CAA': 'Gln', 'AGU': 'Ser', 'CCA': 'Pro', 'CCG': 'Pro',\n",
        " 'CCC': 'Pro', 'UAU': 'Tyr', 'GGU': 'Gly', 'UGU': 'Cys', 'CGA': 'Arg', \n",
        " 'CAG': 'Gln', 'UCU': 'Ser', 'GAU': 'Asp', 'CGG': 'Arg', 'UUU': 'Phe', \n",
        " 'UGC': 'Cys', 'GGG': 'Gly', 'UGA':'---', 'GGA': 'Gly', 'UAA': '---', \n",
        " 'ACG': 'Thr', 'UAC': 'Tyr', 'UUC': 'Phe', 'UCG': 'Ser', 'UUA': 'Leu', \n",
        " 'UUG': 'Leu', 'UCC': 'Ser', 'ACC': 'Thr', 'UCA': 'Ser', 'GCA': 'Ala', \n",
        " 'GUA': 'Val', 'GCC': 'Ala', 'GUC': 'Val', 'GGC':'Gly', 'GCG': 'Ala', \n",
        " 'GUG': 'Val', 'GAG': 'Glu', 'GUU': 'Val', 'GCU': 'Ala', 'GAC': 'Asp', \n",
        " 'CGU': 'Arg', 'GAA': 'Glu', 'AUG': 'Met', 'CGC': 'Arg'}\n",
        "\n",
        "def amino_acids(mrna):\n",
        "  a = []\n",
        "  for y in range(3, len(mrna)+3, 3):\n",
        "    if mrna[y-3:y] in my_dict:\n",
        "      if my_dict[mrna[y-3:y]] != '---':\n",
        "       a = a + (my_dict[mrna[y-3:y]],)\n",
        "       \n",
        "       return [a, len(set(a))]\n",
        "\n",
        "    \n",
        "### END FUNCTION"
      ],
      "execution_count": 0,
      "outputs": []
    },
    {
      "cell_type": "code",
      "metadata": {
        "colab_type": "code",
        "id": "Jyc8VeZlOBNj",
        "outputId": "9ef86b53-dd68-4b82-b739-b8b3ba169eb8",
        "colab": {
          "base_uri": "https://localhost:8080/",
          "height": 301
        }
      },
      "source": [
        "amino_acids('AUGUCGGCACAUUUAUGCUCCUAAUCC')"
      ],
      "execution_count": 0,
      "outputs": [
        {
          "output_type": "error",
          "ename": "TypeError",
          "evalue": "ignored",
          "traceback": [
            "\u001b[0;31m---------------------------------------------------------------------------\u001b[0m",
            "\u001b[0;31mTypeError\u001b[0m                                 Traceback (most recent call last)",
            "\u001b[0;32m<ipython-input-6-30339b1152c0>\u001b[0m in \u001b[0;36m<module>\u001b[0;34m()\u001b[0m\n\u001b[0;32m----> 1\u001b[0;31m \u001b[0mamino_acids\u001b[0m\u001b[0;34m(\u001b[0m\u001b[0;34m'AUGUCGGCACAUUUAUGCUCCUAAUCC'\u001b[0m\u001b[0;34m)\u001b[0m\u001b[0;34m\u001b[0m\u001b[0;34m\u001b[0m\u001b[0m\n\u001b[0m",
            "\u001b[0;32m<ipython-input-5-42858e454d8c>\u001b[0m in \u001b[0;36mamino_acids\u001b[0;34m(mrna)\u001b[0m\n\u001b[1;32m     19\u001b[0m     \u001b[0;32mif\u001b[0m \u001b[0mmrna\u001b[0m\u001b[0;34m[\u001b[0m\u001b[0my\u001b[0m\u001b[0;34m-\u001b[0m\u001b[0;36m3\u001b[0m\u001b[0;34m:\u001b[0m\u001b[0my\u001b[0m\u001b[0;34m]\u001b[0m \u001b[0;32min\u001b[0m \u001b[0mmy_dict\u001b[0m\u001b[0;34m:\u001b[0m\u001b[0;34m\u001b[0m\u001b[0;34m\u001b[0m\u001b[0m\n\u001b[1;32m     20\u001b[0m       \u001b[0;32mif\u001b[0m \u001b[0mmy_dict\u001b[0m\u001b[0;34m[\u001b[0m\u001b[0mmrna\u001b[0m\u001b[0;34m[\u001b[0m\u001b[0my\u001b[0m\u001b[0;34m-\u001b[0m\u001b[0;36m3\u001b[0m\u001b[0;34m:\u001b[0m\u001b[0my\u001b[0m\u001b[0;34m]\u001b[0m\u001b[0;34m]\u001b[0m \u001b[0;34m!=\u001b[0m \u001b[0;34m'---'\u001b[0m\u001b[0;34m:\u001b[0m\u001b[0;34m\u001b[0m\u001b[0;34m\u001b[0m\u001b[0m\n\u001b[0;32m---> 21\u001b[0;31m        \u001b[0ma\u001b[0m \u001b[0;34m=\u001b[0m \u001b[0ma\u001b[0m \u001b[0;34m+\u001b[0m \u001b[0;34m(\u001b[0m\u001b[0mmy_dict\u001b[0m\u001b[0;34m[\u001b[0m\u001b[0mmrna\u001b[0m\u001b[0;34m[\u001b[0m\u001b[0my\u001b[0m\u001b[0;34m-\u001b[0m\u001b[0;36m3\u001b[0m\u001b[0;34m:\u001b[0m\u001b[0my\u001b[0m\u001b[0;34m]\u001b[0m\u001b[0;34m]\u001b[0m\u001b[0;34m,\u001b[0m\u001b[0;34m)\u001b[0m\u001b[0;34m\u001b[0m\u001b[0;34m\u001b[0m\u001b[0m\n\u001b[0m\u001b[1;32m     22\u001b[0m \u001b[0;34m\u001b[0m\u001b[0m\n\u001b[1;32m     23\u001b[0m        \u001b[0;32mreturn\u001b[0m \u001b[0;34m[\u001b[0m\u001b[0ma\u001b[0m\u001b[0;34m,\u001b[0m \u001b[0mlen\u001b[0m\u001b[0;34m(\u001b[0m\u001b[0mset\u001b[0m\u001b[0;34m(\u001b[0m\u001b[0ma\u001b[0m\u001b[0;34m)\u001b[0m\u001b[0;34m)\u001b[0m\u001b[0;34m]\u001b[0m\u001b[0;34m\u001b[0m\u001b[0;34m\u001b[0m\u001b[0m\n",
            "\u001b[0;31mTypeError\u001b[0m: can only concatenate list (not \"tuple\") to list"
          ]
        }
      ]
    },
    {
      "cell_type": "markdown",
      "metadata": {
        "colab_type": "text",
        "id": "2s36pNSROBNx"
      },
      "source": [
        "_**Expected Outputs**_ \n",
        "```python\n",
        "amino_acids('AUGUCGGCACAUUUAUGCUCCUAAUCC') == [('Met', 'Ser', 'Ala', 'His', 'Leu', 'Cys', 'Ser'), 6]\n",
        "amino_acids('AUGCCACCUUGA') == [('Met', 'Pro', 'Pro'), 2]\n",
        "amino_acids('AUGUCCCCUGCACGAGGGCCAUCCUGAUCCCCCCAU') == [('Met', 'Ser', 'Pro', 'Ala', 'Arg', 'Gly', 'Pro', 'Ser'), 6]\n",
        "amino_acids('AUGUGGCGACUCUAUCGCGUUGCCCGGUACUGAAUGCCACCU') == [('Met', 'Trp', 'Arg', 'Leu', 'Tyr', 'Arg', 'Val', 'Ala', 'Arg', 'Tyr'), 7]\n",
        "```"
      ]
    },
    {
      "cell_type": "markdown",
      "metadata": {
        "colab_type": "text",
        "id": "Vm13pjSjyxkI"
      },
      "source": [
        "# References"
      ]
    },
    {
      "cell_type": "markdown",
      "metadata": {
        "colab_type": "text",
        "id": "OxjO59-2yxkJ"
      },
      "source": [
        "This tutorial was created using the wonderful [Google Python Developers](https://developers.google.com/edu/python/) course, and has been modified under the [Creative Common's licence 2.5](https://creativecommons.org/licenses/by/2.5/) "
      ]
    },
    {
      "cell_type": "markdown",
      "metadata": {
        "colab_type": "text",
        "id": "Y5w2IupiyxkJ"
      },
      "source": [
        "Copyright 2010 Google Inc.\n",
        "Licensed under the Apache License, Version 2.0\n",
        "http://www.apache.org/licenses/LICENSE-2.0\n",
        "\n",
        "Google's Python Class\n",
        "http://code.google.com/edu/languages/google-python-class/"
      ]
    }
  ]
}